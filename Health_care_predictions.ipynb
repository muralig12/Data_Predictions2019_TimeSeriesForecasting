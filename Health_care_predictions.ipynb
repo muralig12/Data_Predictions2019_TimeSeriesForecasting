{
 "cells": [
  {
   "cell_type": "markdown",
   "metadata": {},
   "source": [
    "#                                       Healthcare_Predictions"
   ]
  },
  {
   "cell_type": "code",
   "execution_count": 1,
   "metadata": {},
   "outputs": [],
   "source": [
    "# import all Required libaires\n",
    "import warnings\n",
    "import itertools\n",
    "import pandas as pd\n",
    "import numpy as np\n",
    "import matplotlib.pyplot as plt\n",
    "import statsmodels.api as sm"
   ]
  },
  {
   "cell_type": "code",
   "execution_count": 2,
   "metadata": {},
   "outputs": [
    {
     "name": "stdout",
     "output_type": "stream",
     "text": [
      "0     2000\n",
      "1     2001\n",
      "2     2002\n",
      "3     2003\n",
      "4     2004\n",
      "5     2005\n",
      "6     2006\n",
      "7     2007\n",
      "8     2008\n",
      "9     2009\n",
      "10    2010\n",
      "11    2012\n",
      "12    2013\n",
      "13    2014\n",
      "14    2015\n",
      "15    2016\n",
      "16    2017\n",
      "Name: year, dtype: int64\n"
     ]
    }
   ],
   "source": [
    "# read_data \n",
    "\n",
    "helthcare_data = pd.read_csv('helthcare.csv')\n",
    "\n",
    "\n",
    "# separete data \n",
    "\n",
    "y = helthcare_data['year']\n",
    "\n",
    "# The term bfill means that we use the value before filling in missing values\n",
    "y = y.fillna(y.bfill())\n",
    "\n",
    "print(y)"
   ]
  },
  {
   "cell_type": "code",
   "execution_count": 3,
   "metadata": {},
   "outputs": [
    {
     "name": "stdout",
     "output_type": "stream",
     "text": [
      "            frequency\n",
      "year                 \n",
      "2000-01-01   29119.30\n",
      "2001-01-01   29137.86\n",
      "2002-01-01   29707.90\n",
      "2003-01-01   29820.22\n",
      "2004-01-01   29498.77\n",
      "2005-01-01   29244.48\n",
      "2006-01-01   28833.40\n",
      "2007-01-01   28167.90\n",
      "2008-01-01   27555.90\n",
      "2009-01-01   27104.73\n",
      "2010-01-01   26686.35\n",
      "2012-01-01   25125.28\n",
      "2013-01-01   24432.72\n",
      "2014-01-01   23524.46\n",
      "2015-01-01   23217.29\n",
      "2016-01-01   22540.39\n",
      "2017-01-01   21830.76\n"
     ]
    },
    {
     "data": {
      "image/png": "[encoded data removed]",
      "text/plain": [
       "<Figure size 432x288 with 1 Axes>"
      ]
     },
     "metadata": {
      "needs_background": "light"
     },
     "output_type": "display_data"
    }
   ],
   "source": [
    "#changing year datatime format beaccause arima model working time series forecast \n",
    "\n",
    "helthcare_data['year']=pd.to_datetime(helthcare_data['year'], format='%Y')\n",
    "\n",
    "helthcare_data.set_index(['year'], inplace=True)\n",
    "\n",
    "print(helthcare_data)\n",
    "\n",
    "# Plot the data\n",
    "# checiking Frequncy in Year Wise \n",
    "\n",
    "helthcare_data.plot(kind='bar')\n",
    "plt.ylabel('frequency')\n",
    "plt.xlabel('year')\n",
    "plt.show()"
   ]
  },
  {
   "cell_type": "code",
   "execution_count": 171,
   "metadata": {},
   "outputs": [
    {
     "data": {
      "text/html": [
       "<div>\n",
       "<style scoped>\n",
       "    .dataframe tbody tr th:only-of-type {\n",
       "        vertical-align: middle;\n",
       "    }\n",
       "\n",
       "    .dataframe tbody tr th {\n",
       "        vertical-align: top;\n",
       "    }\n",
       "\n",
       "    .dataframe thead th {\n",
       "        text-align: right;\n",
       "    }\n",
       "</style>\n",
       "<table border=\"1\" class=\"dataframe\">\n",
       "  <thead>\n",
       "    <tr style=\"text-align: right;\">\n",
       "      <th></th>\n",
       "      <th>frequency</th>\n",
       "    </tr>\n",
       "  </thead>\n",
       "  <tbody>\n",
       "    <tr>\n",
       "      <th>count</th>\n",
       "      <td>17.000000</td>\n",
       "    </tr>\n",
       "    <tr>\n",
       "      <th>mean</th>\n",
       "      <td>26796.924118</td>\n",
       "    </tr>\n",
       "    <tr>\n",
       "      <th>std</th>\n",
       "      <td>2774.609885</td>\n",
       "    </tr>\n",
       "    <tr>\n",
       "      <th>min</th>\n",
       "      <td>21830.760000</td>\n",
       "    </tr>\n",
       "    <tr>\n",
       "      <th>25%</th>\n",
       "      <td>24432.720000</td>\n",
       "    </tr>\n",
       "    <tr>\n",
       "      <th>50%</th>\n",
       "      <td>27555.900000</td>\n",
       "    </tr>\n",
       "    <tr>\n",
       "      <th>75%</th>\n",
       "      <td>29137.860000</td>\n",
       "    </tr>\n",
       "    <tr>\n",
       "      <th>max</th>\n",
       "      <td>29820.220000</td>\n",
       "    </tr>\n",
       "  </tbody>\n",
       "</table>\n",
       "</div>"
      ],
      "text/plain": [
       "          frequency\n",
       "count     17.000000\n",
       "mean   26796.924118\n",
       "std     2774.609885\n",
       "min    21830.760000\n",
       "25%    24432.720000\n",
       "50%    27555.900000\n",
       "75%    29137.860000\n",
       "max    29820.220000"
      ]
     },
     "execution_count": 171,
     "metadata": {},
     "output_type": "execute_result"
    }
   ],
   "source": [
    "# describe the data\n",
    "\n",
    "helthcare_data.describe()"
   ]
  },
  {
   "cell_type": "code",
   "execution_count": 172,
   "metadata": {},
   "outputs": [
    {
     "data": {
      "text/plain": [
       "frequency    0\n",
       "dtype: int64"
      ]
     },
     "execution_count": 172,
     "metadata": {},
     "output_type": "execute_result"
    }
   ],
   "source": [
    "# checking null values in yourdata\n",
    "\n",
    "helthcare_data.isnull().sum()"
   ]
  },
  {
   "cell_type": "code",
   "execution_count": 173,
   "metadata": {},
   "outputs": [
    {
     "name": "stdout",
     "output_type": "stream",
     "text": [
      "Examples of parameter combinations for Seasonal ARIMA...\n",
      "SARIMAX: (0, 0, 1) x (0, 0, 1, 12)\n",
      "SARIMAX: (0, 0, 1) x (0, 1, 0, 12)\n",
      "SARIMAX: (0, 1, 0) x (0, 1, 1, 12)\n",
      "SARIMAX: (0, 1, 0) x (1, 0, 0, 12)\n"
     ]
    }
   ],
   "source": [
    "\n",
    "# Arima model intilation\n",
    "\n",
    "p = d = q = range(0, 2)\n",
    "pdq = list(itertools.product(p, d, q))\n",
    "seasonal_pdq = [(x[0], x[1], x[2], 12) for x in list(itertools.product(p, d, q))]\n",
    "print('Examples of parameter combinations for Seasonal ARIMA...')\n",
    "print('SARIMAX: {} x {}'.format(pdq[1], seasonal_pdq[1]))\n",
    "print('SARIMAX: {} x {}'.format(pdq[1], seasonal_pdq[2]))\n",
    "print('SARIMAX: {} x {}'.format(pdq[2], seasonal_pdq[3]))\n",
    "print('SARIMAX: {} x {}'.format(pdq[2], seasonal_pdq[4]))"
   ]
  },
  {
   "cell_type": "code",
   "execution_count": null,
   "metadata": {},
   "outputs": [],
   "source": []
  },
  {
   "cell_type": "code",
   "execution_count": 176,
   "metadata": {},
   "outputs": [],
   "source": [
    "# split the train and test and data \n",
    "train_data = helthcare_data['2000-01-01':'2009-01-01']\n",
    "test_data = helthcare_data['2010-01-01':'2017-01-01']\n",
    "\n"
   ]
  },
  {
   "cell_type": "code",
   "execution_count": 177,
   "metadata": {},
   "outputs": [
    {
     "name": "stdout",
     "output_type": "stream",
     "text": [
      "SARIMAX(0, 0, 0)x(0, 0, 0, 12) - AIC:212.3673478435073\r",
      "SARIMAX(0, 0, 0)x(0, 1, 0, 12) - AIC:2.0\r",
      "SARIMAX(0, 0, 1)x(0, 0, 0, 12) - AIC:185.36603036394115\r",
      "SARIMAX(0, 1, 0)x(0, 0, 0, 12) - AIC:122.81553402431624\r",
      "SARIMAX(0, 1, 0)x(0, 1, 0, 12) - AIC:2.0\r",
      "SARIMAX(0, 1, 1)x(0, 0, 0, 12) - AIC:101.80449876458012\r",
      "SARIMAX(1, 0, 0)x(0, 0, 0, 12) - AIC:136.18458418170405\r",
      "SARIMAX(1, 0, 1)x(0, 0, 0, 12) - AIC:119.43224853483821\r",
      "SARIMAX(1, 1, 0)x(0, 0, 0, 12) - AIC:118.39305542589906\r",
      "SARIMAX(1, 1, 1)x(0, 0, 0, 12) - AIC:102.48941989236592\r"
     ]
    }
   ],
   "source": [
    "# applly the data model \n",
    "\n",
    "warnings.filterwarnings(\"ignore\") # specify to ignore warning messages\n",
    "\n",
    "AIC = []\n",
    "SARIMAX_model = []\n",
    "for param in pdq:\n",
    "    for param_seasonal in seasonal_pdq:\n",
    "        try:\n",
    "            mod = sm.tsa.statespace.SARIMAX(train_data,\n",
    "                                            order=param,\n",
    "                                            seasonal_order=param_seasonal,\n",
    "                                            enforce_stationarity=False,\n",
    "                                            enforce_invertibility=False)\n",
    "\n",
    "            results = mod.fit()\n",
    "\n",
    "            print('SARIMAX{}x{} - AIC:{}'.format(param, param_seasonal, results.aic), end='\\r')\n",
    "            AIC.append(results.aic)\n",
    "            SARIMAX_model.append([param, param_seasonal])\n",
    "        except:\n",
    "            continue"
   ]
  },
  {
   "cell_type": "code",
   "execution_count": 178,
   "metadata": {},
   "outputs": [
    {
     "name": "stdout",
     "output_type": "stream",
     "text": [
      "The smallest AIC is 2.0 for model SARIMAX(0, 0, 0)x(0, 1, 0, 12)\n"
     ]
    }
   ],
   "source": [
    "print('The smallest AIC is {} for model SARIMAX{}x{}'.format(min(AIC), SARIMAX_model[AIC.index(min(AIC))][0],SARIMAX_model[AIC.index(min(AIC))][1]))"
   ]
  },
  {
   "cell_type": "code",
   "execution_count": 179,
   "metadata": {},
   "outputs": [],
   "source": [
    "\n",
    "# Let's fit this model\n",
    "\n",
    "mod = sm.tsa.statespace.SARIMAX(train_data,\n",
    "                                order=SARIMAX_model[AIC.index(min(AIC))][0],\n",
    "                                seasonal_order=SARIMAX_model[AIC.index(min(AIC))][1],\n",
    "                                enforce_stationarity=False,\n",
    "                                enforce_invertibility=False)\n",
    "\n",
    "results = mod.fit()"
   ]
  },
  {
   "cell_type": "code",
   "execution_count": 186,
   "metadata": {},
   "outputs": [
    {
     "name": "stdout",
     "output_type": "stream",
     "text": [
      "2019-01-01    28167.9\n",
      "Freq: AS-JAN, dtype: float64\n"
     ]
    }
   ],
   "source": [
    "# predict 2019 data \n",
    "pred0 = results.get_prediction(start='2019-01-01', dynamic=False)\n",
    "pred0_ci = pred0.conf_int()\n",
    "\n",
    "\n",
    "print(pred2.predicted_mean['2019-01-01':'2019-12-01' ])"
   ]
  },
  {
   "cell_type": "code",
   "execution_count": 187,
   "metadata": {},
   "outputs": [
    {
     "name": "stdout",
     "output_type": "stream",
     "text": [
      "Series([], Freq: AS-JAN, dtype: float64)\n"
     ]
    }
   ],
   "source": [
    "# predict 2025 data\n",
    "pred1 = results.get_prediction(start='2025-01-01', dynamic=True)\n",
    "pred1_ci = pred1.conf_int()\n",
    "\n",
    "print(pred2.predicted_mean['2025-01-01':'2025-12-01' ])"
   ]
  },
  {
   "cell_type": "code",
   "execution_count": 188,
   "metadata": {},
   "outputs": [
    {
     "name": "stdout",
     "output_type": "stream",
     "text": [
      "2019-01-01    28167.9\n",
      "Freq: AS-JAN, dtype: float64\n"
     ]
    }
   ],
   "source": [
    "# predict the 2019 data\n",
    "\n",
    "pred2 = results.get_forecast('2019-01-01')\n",
    "pred2_ci = pred2.conf_int()\n",
    "\n",
    "print(pred2.predicted_mean['2019-01-01':'2019-12-01' ])"
   ]
  },
  {
   "cell_type": "code",
   "execution_count": 189,
   "metadata": {},
   "outputs": [
    {
     "name": "stdout",
     "output_type": "stream",
     "text": [
      "2020-01-01    27555.9\n",
      "Freq: AS-JAN, dtype: float64\n"
     ]
    }
   ],
   "source": [
    "# predict the 2020 data\n",
    "\n",
    "pred2 = results.get_forecast('2020-01-01')\n",
    "pred2_ci = pred2.conf_int()\n",
    "\n",
    "print(pred2.predicted_mean['2020-01-01':'2020-12-01' ])"
   ]
  },
  {
   "cell_type": "markdown",
   "metadata": {},
   "source": [
    "## Predictions the data in 2018 to 2020 future predictions based on previous data........"
   ]
  },
  {
   "cell_type": "code",
   "execution_count": 192,
   "metadata": {},
   "outputs": [
    {
     "data": {
      "image/png": "[encoded data removed]",
      "text/plain": [
       "<Figure size 1440x1152 with 1 Axes>"
      ]
     },
     "metadata": {
      "needs_background": "light"
     },
     "output_type": "display_data"
    }
   ],
   "source": [
    "# predict the future prediction 2018- 2020\n",
    "\n",
    "\n",
    "ax = helthcare_data.plot(figsize=(20, 16))\n",
    "\n",
    "# pred0.predicted_mean.plot(ax=ax, label='1-step-ahead Forecast (get_predictions, dynamic=False)')\n",
    "# pred1.predicted_mean.plot(ax=ax, label='Dynamic Forecast (get_predictions, dynamic=True)')\n",
    "\n",
    "pred2.predicted_mean.plot(ax=ax, label='Forecast Frequency')\n",
    "ax.fill_between(pred2_ci.index, pred2_ci.iloc[:, 0], pred2_ci.iloc[:, 1], color='k', alpha=.1)\n",
    "plt.ylabel('frequnecy')\n",
    "plt.xlabel('year')\n",
    "plt.legend()\n",
    "plt.show()"
   ]
  },
  {
   "cell_type": "markdown",
   "metadata": {},
   "source": [
    "##                 THIS MAIN PART CHECK ERROR RATE "
   ]
  },
  {
   "cell_type": "code",
   "execution_count": 200,
   "metadata": {},
   "outputs": [
    {
     "name": "stdout",
     "output_type": "stream",
     "text": [
      "The Mean Absolute Percentage Error for the forecast of year 2019 is 15.72%\n"
     ]
    }
   ],
   "source": [
    "#checking error Rate in Your Predection \n",
    "\n",
    "# this part is very importatnt part\n",
    "\n",
    "\n",
    "prediction = pred2.predicted_mean['2020-01-01':'2020-12-01'].values\n",
    "# flatten nested list\n",
    "truth = list(itertools.chain.from_iterable(test_data.values))\n",
    "# Mean Absolute Percentage Error\n",
    "MAPE = np.mean(np.abs((truth - prediction) / truth)) * 100\n",
    "\n",
    "print('The Mean Absolute Percentage Error for the forecast of year 2019 is {:.2f}%'.format(MAPE))"
   ]
  },
  {
   "cell_type": "code",
   "execution_count": null,
   "metadata": {},
   "outputs": [],
   "source": []
  }
 ],
 "metadata": {
  "kernelspec": {
   "display_name": "Python 3",
   "language": "python",
   "name": "python3"
  },
  "language_info": {
   "codemirror_mode": {
    "name": "ipython",
    "version": 3
   },
   "file_extension": ".py",
   "mimetype": "text/x-python",
   "name": "python",
   "nbconvert_exporter": "python",
   "pygments_lexer": "ipython3",
   "version": "3.7.3"
  }
 },
 "nbformat": 4,
 "nbformat_minor": 2
}
